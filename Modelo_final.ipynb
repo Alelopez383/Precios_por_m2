{
 "cells": [
  {
   "cell_type": "markdown",
   "id": "42e9ea1f",
   "metadata": {},
   "source": [
    "# Reto: Precio por m2\n",
    "\n",
    "\n",
    "# Primera parte: \n",
    "\n",
    "- La base inicial se transformó utiluzando PowerQuery en Excel.\n",
    "- Se dividió columnas de locación para obtener tres columnas: calle, colonia y estado.\n",
    "- Se eliminaron 16 columnas que repetían información para quedar con 18 columnas.\n",
    "- La columna \"disposition\" contaba únicamente con 20 observaciones, por lo que se eliminó.\n",
    "- Aun se presenta errores en las columnas de texto, caracteres especiales en nombres.\n"
   ]
  },
  {
   "cell_type": "code",
   "execution_count": 1,
   "id": "12b2caac",
   "metadata": {},
   "outputs": [],
   "source": [
    "#Dependencias\n",
    "import csv\n",
    "import os\n",
    "import pandas as pd\n",
    "import numpy as np\n",
    "import matplotlib.pyplot as plt\n",
    "from matplotlib import style\n",
    "import seaborn as sns"
   ]
  },
  {
   "cell_type": "code",
   "execution_count": 2,
   "id": "05bf33b0",
   "metadata": {},
   "outputs": [],
   "source": [
    "# Dependencias para modelo de regresión lineal\n",
    "import sklearn as skl\n",
    "from sklearn.linear_model import LinearRegression\n",
    "from sklearn.model_selection import train_test_split\n",
    "from sklearn.metrics import mean_absolute_error,mean_squared_error, r2_score\n",
    "import statsmodels.api as sm"
   ]
  },
  {
   "cell_type": "code",
   "execution_count": 3,
   "id": "53001e4a",
   "metadata": {},
   "outputs": [],
   "source": [
    "# Dependencias para modelo de random forest\n",
    "from sklearn.preprocessing import StandardScaler,OneHotEncoder\n",
    "from sklearn.datasets import make_classification\n",
    "from sklearn.ensemble import RandomForestClassifier\n",
    "from sklearn.metrics import confusion_matrix, accuracy_score, classification_report"
   ]
  },
  {
   "cell_type": "code",
   "execution_count": 4,
   "id": "8dfe6293",
   "metadata": {},
   "outputs": [
    {
     "name": "stderr",
     "output_type": "stream",
     "text": [
      "C:\\Users\\alelo\\anaconda3\\lib\\site-packages\\sklearn\\experimental\\enable_hist_gradient_boosting.py:16: UserWarning: Since version 1.0, it is not needed to import enable_hist_gradient_boosting anymore. HistGradientBoostingClassifier and HistGradientBoostingRegressor are now stable and can be normally imported from sklearn.ensemble.\n",
      "  warnings.warn(\n"
     ]
    }
   ],
   "source": [
    "from sklearn.ensemble import RandomForestRegressor\n",
    "from sklearn.inspection import permutation_importance\n",
    "from sklearn.experimental import enable_hist_gradient_boosting\n",
    "from sklearn.ensemble import HistGradientBoostingRegressor"
   ]
  },
  {
   "cell_type": "markdown",
   "id": "b502d647",
   "metadata": {},
   "source": [
    "# Cargando la base"
   ]
  },
  {
   "cell_type": "code",
   "execution_count": 5,
   "id": "acf7ed61",
   "metadata": {},
   "outputs": [],
   "source": [
    "reto_precios_to_load= 'C:/Users/alelo/Documents/DD360/Precios_por_m2/reto_precios_v1.csv'\n"
   ]
  },
  {
   "cell_type": "markdown",
   "id": "59c8cc57",
   "metadata": {},
   "source": [
    "# Análisis Exploratorio"
   ]
  },
  {
   "cell_type": "code",
   "execution_count": 6,
   "id": "56aaf65d",
   "metadata": {},
   "outputs": [
    {
     "data": {
      "text/html": [
       "<div>\n",
       "<style scoped>\n",
       "    .dataframe tbody tr th:only-of-type {\n",
       "        vertical-align: middle;\n",
       "    }\n",
       "\n",
       "    .dataframe tbody tr th {\n",
       "        vertical-align: top;\n",
       "    }\n",
       "\n",
       "    .dataframe thead th {\n",
       "        text-align: right;\n",
       "    }\n",
       "</style>\n",
       "<table border=\"1\" class=\"dataframe\">\n",
       "  <thead>\n",
       "    <tr style=\"text-align: right;\">\n",
       "      <th></th>\n",
       "      <th>street</th>\n",
       "      <th>suburb</th>\n",
       "      <th>state</th>\n",
       "      <th>vendor</th>\n",
       "      <th>lat</th>\n",
       "      <th>lon</th>\n",
       "      <th>days_on_site</th>\n",
       "      <th>amenities</th>\n",
       "      <th>bathrooms</th>\n",
       "      <th>cellars</th>\n",
       "      <th>num_floors</th>\n",
       "      <th>monthly_fee_mxn</th>\n",
       "      <th>parking_lots</th>\n",
       "      <th>beds</th>\n",
       "      <th>department_type</th>\n",
       "      <th>m2</th>\n",
       "      <th>final_price</th>\n",
       "      <th>price_square_meter</th>\n",
       "    </tr>\n",
       "  </thead>\n",
       "  <tbody>\n",
       "    <tr>\n",
       "      <th>0</th>\n",
       "      <td>Sinaloa 20</td>\n",
       "      <td>Roma Sur, Roma Sur, Cuauhtémoc</td>\n",
       "      <td>Distrito Federal</td>\n",
       "      <td>Investemx</td>\n",
       "      <td>19.421317</td>\n",
       "      <td>-99.164182</td>\n",
       "      <td>5</td>\n",
       "      <td>3</td>\n",
       "      <td>2</td>\n",
       "      <td>0</td>\n",
       "      <td>1</td>\n",
       "      <td>0.0</td>\n",
       "      <td>2</td>\n",
       "      <td>2</td>\n",
       "      <td>apt</td>\n",
       "      <td>127.0</td>\n",
       "      <td>9000000.0</td>\n",
       "      <td>70866.14</td>\n",
       "    </tr>\n",
       "    <tr>\n",
       "      <th>1</th>\n",
       "      <td>Tonala</td>\n",
       "      <td>Roma Norte, Cuauhtémoc</td>\n",
       "      <td>Distrito Federal</td>\n",
       "      <td>Avitana</td>\n",
       "      <td>19.421029</td>\n",
       "      <td>-99.163541</td>\n",
       "      <td>7</td>\n",
       "      <td>2</td>\n",
       "      <td>1</td>\n",
       "      <td>0</td>\n",
       "      <td>0</td>\n",
       "      <td>0.0</td>\n",
       "      <td>1</td>\n",
       "      <td>1</td>\n",
       "      <td>apt</td>\n",
       "      <td>54.0</td>\n",
       "      <td>4264000.0</td>\n",
       "      <td>78962.96</td>\n",
       "    </tr>\n",
       "    <tr>\n",
       "      <th>2</th>\n",
       "      <td>Tepeji 43</td>\n",
       "      <td>Roma Sur, Ciudad De México, Cdmx, México, Rom...</td>\n",
       "      <td>Distrito Federal</td>\n",
       "      <td>Ebranuncios</td>\n",
       "      <td>19.407814</td>\n",
       "      <td>-99.161872</td>\n",
       "      <td>4</td>\n",
       "      <td>0</td>\n",
       "      <td>3</td>\n",
       "      <td>2</td>\n",
       "      <td>3</td>\n",
       "      <td>0.0</td>\n",
       "      <td>2</td>\n",
       "      <td>3</td>\n",
       "      <td>apt</td>\n",
       "      <td>163.0</td>\n",
       "      <td>8093500.0</td>\n",
       "      <td>49653.37</td>\n",
       "    </tr>\n",
       "    <tr>\n",
       "      <th>3</th>\n",
       "      <td>Linares</td>\n",
       "      <td>Roma Sur, Cuauhtémoc</td>\n",
       "      <td>Distrito Federal</td>\n",
       "      <td>Houm</td>\n",
       "      <td>19.404992</td>\n",
       "      <td>-99.160243</td>\n",
       "      <td>150</td>\n",
       "      <td>2</td>\n",
       "      <td>2</td>\n",
       "      <td>0</td>\n",
       "      <td>0</td>\n",
       "      <td>853.0</td>\n",
       "      <td>1</td>\n",
       "      <td>2</td>\n",
       "      <td>Loft</td>\n",
       "      <td>93.0</td>\n",
       "      <td>4000000.0</td>\n",
       "      <td>43010.75</td>\n",
       "    </tr>\n",
       "    <tr>\n",
       "      <th>4</th>\n",
       "      <td>Frontera</td>\n",
       "      <td>Roma Norte, Cuauhtémoc</td>\n",
       "      <td>Distrito Federal</td>\n",
       "      <td>Contactobienesraicesgold</td>\n",
       "      <td>19.419693</td>\n",
       "      <td>-99.156036</td>\n",
       "      <td>52</td>\n",
       "      <td>4</td>\n",
       "      <td>2</td>\n",
       "      <td>0</td>\n",
       "      <td>0</td>\n",
       "      <td>0.0</td>\n",
       "      <td>1</td>\n",
       "      <td>2</td>\n",
       "      <td>apt</td>\n",
       "      <td>103.0</td>\n",
       "      <td>6732700.0</td>\n",
       "      <td>65366.02</td>\n",
       "    </tr>\n",
       "  </tbody>\n",
       "</table>\n",
       "</div>"
      ],
      "text/plain": [
       "        street                                             suburb  \\\n",
       "0  Sinaloa 20                      Roma Sur, Roma Sur, Cuauhtémoc   \n",
       "1       Tonala                             Roma Norte, Cuauhtémoc   \n",
       "2    Tepeji 43   Roma Sur, Ciudad De México, Cdmx, México, Rom...   \n",
       "3      Linares                               Roma Sur, Cuauhtémoc   \n",
       "4     Frontera                             Roma Norte, Cuauhtémoc   \n",
       "\n",
       "               state                    vendor        lat        lon  \\\n",
       "0   Distrito Federal                 Investemx  19.421317 -99.164182   \n",
       "1   Distrito Federal                   Avitana  19.421029 -99.163541   \n",
       "2   Distrito Federal               Ebranuncios  19.407814 -99.161872   \n",
       "3   Distrito Federal                      Houm  19.404992 -99.160243   \n",
       "4   Distrito Federal  Contactobienesraicesgold  19.419693 -99.156036   \n",
       "\n",
       "   days_on_site  amenities  bathrooms  cellars  num_floors  monthly_fee_mxn  \\\n",
       "0             5          3          2        0           1              0.0   \n",
       "1             7          2          1        0           0              0.0   \n",
       "2             4          0          3        2           3              0.0   \n",
       "3           150          2          2        0           0            853.0   \n",
       "4            52          4          2        0           0              0.0   \n",
       "\n",
       "   parking_lots  beds department_type     m2  final_price  price_square_meter  \n",
       "0             2     2             apt  127.0    9000000.0            70866.14  \n",
       "1             1     1             apt   54.0    4264000.0            78962.96  \n",
       "2             2     3             apt  163.0    8093500.0            49653.37  \n",
       "3             1     2            Loft   93.0    4000000.0            43010.75  \n",
       "4             1     2             apt  103.0    6732700.0            65366.02  "
      ]
     },
     "execution_count": 6,
     "metadata": {},
     "output_type": "execute_result"
    }
   ],
   "source": [
    "#Convirtiendo la base en Dataframe\n",
    "precios_df= pd.read_csv(reto_precios_to_load)\n",
    "\n",
    "#Primeras filas del dataframe\n",
    "precios_df.head()"
   ]
  },
  {
   "cell_type": "code",
   "execution_count": 7,
   "id": "cb09c16b",
   "metadata": {},
   "outputs": [
    {
     "name": "stdout",
     "output_type": "stream",
     "text": [
      "<class 'pandas.core.frame.DataFrame'>\n",
      "RangeIndex: 981 entries, 0 to 980\n",
      "Data columns (total 18 columns):\n",
      " #   Column              Non-Null Count  Dtype  \n",
      "---  ------              --------------  -----  \n",
      " 0   street              981 non-null    object \n",
      " 1   suburb              981 non-null    object \n",
      " 2   state               981 non-null    object \n",
      " 3   vendor              981 non-null    object \n",
      " 4   lat                 981 non-null    float64\n",
      " 5   lon                 981 non-null    float64\n",
      " 6   days_on_site        981 non-null    int64  \n",
      " 7   amenities           981 non-null    int64  \n",
      " 8   bathrooms           981 non-null    int64  \n",
      " 9   cellars             981 non-null    int64  \n",
      " 10  num_floors          981 non-null    int64  \n",
      " 11  monthly_fee_mxn     981 non-null    float64\n",
      " 12  parking_lots        981 non-null    int64  \n",
      " 13  beds                981 non-null    int64  \n",
      " 14  department_type     981 non-null    object \n",
      " 15  m2                  981 non-null    float64\n",
      " 16  final_price         981 non-null    float64\n",
      " 17  price_square_meter  981 non-null    float64\n",
      "dtypes: float64(6), int64(7), object(5)\n",
      "memory usage: 138.1+ KB\n"
     ]
    }
   ],
   "source": [
    "# Información sobre las columnas y observaciones\n",
    "precios_df.info()"
   ]
  },
  {
   "cell_type": "code",
   "execution_count": 8,
   "id": "f93b990f",
   "metadata": {},
   "outputs": [
    {
     "data": {
      "text/plain": [
       "street                0\n",
       "suburb                0\n",
       "state                 0\n",
       "vendor                0\n",
       "lat                   0\n",
       "lon                   0\n",
       "days_on_site          0\n",
       "amenities             0\n",
       "bathrooms             0\n",
       "cellars               0\n",
       "num_floors            0\n",
       "monthly_fee_mxn       0\n",
       "parking_lots          0\n",
       "beds                  0\n",
       "department_type       0\n",
       "m2                    0\n",
       "final_price           0\n",
       "price_square_meter    0\n",
       "dtype: int64"
      ]
     },
     "execution_count": 8,
     "metadata": {},
     "output_type": "execute_result"
    }
   ],
   "source": [
    "precios_df.isnull().sum()"
   ]
  },
  {
   "cell_type": "code",
   "execution_count": 9,
   "id": "47f7bc3b",
   "metadata": {
    "scrolled": true
   },
   "outputs": [
    {
     "data": {
      "text/html": [
       "<div>\n",
       "<style scoped>\n",
       "    .dataframe tbody tr th:only-of-type {\n",
       "        vertical-align: middle;\n",
       "    }\n",
       "\n",
       "    .dataframe tbody tr th {\n",
       "        vertical-align: top;\n",
       "    }\n",
       "\n",
       "    .dataframe thead th {\n",
       "        text-align: right;\n",
       "    }\n",
       "</style>\n",
       "<table border=\"1\" class=\"dataframe\">\n",
       "  <thead>\n",
       "    <tr style=\"text-align: right;\">\n",
       "      <th></th>\n",
       "      <th>days_on_site</th>\n",
       "      <th>amenities</th>\n",
       "      <th>bathrooms</th>\n",
       "      <th>cellars</th>\n",
       "      <th>num_floors</th>\n",
       "      <th>monthly_fee_mxn</th>\n",
       "      <th>parking_lots</th>\n",
       "      <th>beds</th>\n",
       "      <th>m2</th>\n",
       "      <th>final_price</th>\n",
       "      <th>price_square_meter</th>\n",
       "    </tr>\n",
       "  </thead>\n",
       "  <tbody>\n",
       "    <tr>\n",
       "      <th>count</th>\n",
       "      <td>981.00</td>\n",
       "      <td>981.00</td>\n",
       "      <td>981.00</td>\n",
       "      <td>981.00</td>\n",
       "      <td>981.00</td>\n",
       "      <td>981.00</td>\n",
       "      <td>981.00</td>\n",
       "      <td>981.00</td>\n",
       "      <td>981.00</td>\n",
       "      <td>981.00</td>\n",
       "      <td>981.00</td>\n",
       "    </tr>\n",
       "    <tr>\n",
       "      <th>mean</th>\n",
       "      <td>103.48</td>\n",
       "      <td>2.10</td>\n",
       "      <td>1.97</td>\n",
       "      <td>0.05</td>\n",
       "      <td>0.31</td>\n",
       "      <td>28.92</td>\n",
       "      <td>1.33</td>\n",
       "      <td>2.10</td>\n",
       "      <td>111.82</td>\n",
       "      <td>6144619.88</td>\n",
       "      <td>61049.00</td>\n",
       "    </tr>\n",
       "    <tr>\n",
       "      <th>std</th>\n",
       "      <td>116.79</td>\n",
       "      <td>2.23</td>\n",
       "      <td>0.89</td>\n",
       "      <td>0.23</td>\n",
       "      <td>1.30</td>\n",
       "      <td>287.13</td>\n",
       "      <td>0.48</td>\n",
       "      <td>0.63</td>\n",
       "      <td>231.60</td>\n",
       "      <td>2907088.80</td>\n",
       "      <td>19327.44</td>\n",
       "    </tr>\n",
       "    <tr>\n",
       "      <th>min</th>\n",
       "      <td>1.00</td>\n",
       "      <td>0.00</td>\n",
       "      <td>1.00</td>\n",
       "      <td>0.00</td>\n",
       "      <td>0.00</td>\n",
       "      <td>0.00</td>\n",
       "      <td>1.00</td>\n",
       "      <td>1.00</td>\n",
       "      <td>31.00</td>\n",
       "      <td>634217.00</td>\n",
       "      <td>582.25</td>\n",
       "    </tr>\n",
       "    <tr>\n",
       "      <th>25%</th>\n",
       "      <td>31.00</td>\n",
       "      <td>0.00</td>\n",
       "      <td>2.00</td>\n",
       "      <td>0.00</td>\n",
       "      <td>0.00</td>\n",
       "      <td>0.00</td>\n",
       "      <td>1.00</td>\n",
       "      <td>2.00</td>\n",
       "      <td>75.00</td>\n",
       "      <td>4330000.00</td>\n",
       "      <td>52294.12</td>\n",
       "    </tr>\n",
       "    <tr>\n",
       "      <th>50%</th>\n",
       "      <td>59.00</td>\n",
       "      <td>2.00</td>\n",
       "      <td>2.00</td>\n",
       "      <td>0.00</td>\n",
       "      <td>0.00</td>\n",
       "      <td>0.00</td>\n",
       "      <td>1.00</td>\n",
       "      <td>2.00</td>\n",
       "      <td>93.00</td>\n",
       "      <td>5511689.00</td>\n",
       "      <td>61271.47</td>\n",
       "    </tr>\n",
       "    <tr>\n",
       "      <th>75%</th>\n",
       "      <td>120.00</td>\n",
       "      <td>4.00</td>\n",
       "      <td>2.00</td>\n",
       "      <td>0.00</td>\n",
       "      <td>0.00</td>\n",
       "      <td>0.00</td>\n",
       "      <td>2.00</td>\n",
       "      <td>2.00</td>\n",
       "      <td>129.00</td>\n",
       "      <td>7700000.00</td>\n",
       "      <td>70175.44</td>\n",
       "    </tr>\n",
       "    <tr>\n",
       "      <th>max</th>\n",
       "      <td>730.00</td>\n",
       "      <td>8.00</td>\n",
       "      <td>23.00</td>\n",
       "      <td>2.00</td>\n",
       "      <td>12.00</td>\n",
       "      <td>4000.00</td>\n",
       "      <td>3.00</td>\n",
       "      <td>4.00</td>\n",
       "      <td>7210.00</td>\n",
       "      <td>22330000.00</td>\n",
       "      <td>150514.82</td>\n",
       "    </tr>\n",
       "  </tbody>\n",
       "</table>\n",
       "</div>"
      ],
      "text/plain": [
       "       days_on_site  amenities  bathrooms  cellars  num_floors  \\\n",
       "count        981.00     981.00     981.00   981.00      981.00   \n",
       "mean         103.48       2.10       1.97     0.05        0.31   \n",
       "std          116.79       2.23       0.89     0.23        1.30   \n",
       "min            1.00       0.00       1.00     0.00        0.00   \n",
       "25%           31.00       0.00       2.00     0.00        0.00   \n",
       "50%           59.00       2.00       2.00     0.00        0.00   \n",
       "75%          120.00       4.00       2.00     0.00        0.00   \n",
       "max          730.00       8.00      23.00     2.00       12.00   \n",
       "\n",
       "       monthly_fee_mxn  parking_lots    beds       m2  final_price  \\\n",
       "count           981.00        981.00  981.00   981.00       981.00   \n",
       "mean             28.92          1.33    2.10   111.82   6144619.88   \n",
       "std             287.13          0.48    0.63   231.60   2907088.80   \n",
       "min               0.00          1.00    1.00    31.00    634217.00   \n",
       "25%               0.00          1.00    2.00    75.00   4330000.00   \n",
       "50%               0.00          1.00    2.00    93.00   5511689.00   \n",
       "75%               0.00          2.00    2.00   129.00   7700000.00   \n",
       "max            4000.00          3.00    4.00  7210.00  22330000.00   \n",
       "\n",
       "       price_square_meter  \n",
       "count              981.00  \n",
       "mean             61049.00  \n",
       "std              19327.44  \n",
       "min                582.25  \n",
       "25%              52294.12  \n",
       "50%              61271.47  \n",
       "75%              70175.44  \n",
       "max             150514.82  "
      ]
     },
     "execution_count": 9,
     "metadata": {},
     "output_type": "execute_result"
    }
   ],
   "source": [
    "# Información sobre estadísticas descriptivas\n",
    "precios_df[['days_on_site', 'amenities', 'bathrooms', 'cellars', 'num_floors', 'monthly_fee_mxn', 'parking_lots', 'beds', 'm2', 'final_price', 'price_square_meter']].describe().round(2)"
   ]
  },
  {
   "cell_type": "markdown",
   "id": "9c3a9f17",
   "metadata": {},
   "source": [
    " ## Existen tres variables que muestran comportamiento extraño, es decir mínimos y máximos muy extremos, por loque se analizarpan con mayor profundidad.\n",
    " "
   ]
  },
  {
   "cell_type": "code",
   "execution_count": 10,
   "id": "7b8d0390",
   "metadata": {},
   "outputs": [
    {
     "data": {
      "image/png": "[encoded data removed]",
      "text/plain": [
       "<Figure size 640x480 with 1 Axes>"
      ]
     },
     "metadata": {},
     "output_type": "display_data"
    }
   ],
   "source": [
    "# box plot para número de baños, ya que el máximo es 23 y es un número ilógico para un departamento\n",
    "plt.boxplot(precios_df['bathrooms'])\n",
    "\n",
    "# Etiquetas de los ejes y título\n",
    "plt.xlabel('Baños')\n",
    "plt.ylabel('Valores')\n",
    "plt.title('Número de Baños')\n",
    "\n",
    "# Mostrar el box plot\n",
    "plt.show()"
   ]
  },
  {
   "cell_type": "code",
   "execution_count": 11,
   "id": "54e229a4",
   "metadata": {},
   "outputs": [
    {
     "data": {
      "image/png": "[encoded data removed]",
      "text/plain": [
       "<Figure size 640x480 with 1 Axes>"
      ]
     },
     "metadata": {},
     "output_type": "display_data"
    }
   ],
   "source": [
    "# Box plot para cuota mensual de mantenimiento para revisar si son outliers\n",
    "plt.boxplot(precios_df['monthly_fee_mxn'])\n",
    "\n",
    "# Etiquetas de los ejes y título\n",
    "plt.xlabel('Cuota mensual de mantenimiento')\n",
    "plt.ylabel('Valores')\n",
    "plt.title('Mantenimiento')\n",
    "\n",
    "# Mostrar el box plot\n",
    "plt.show()"
   ]
  },
  {
   "cell_type": "code",
   "execution_count": 12,
   "id": "492571f0",
   "metadata": {},
   "outputs": [
    {
     "data": {
      "image/png": "[encoded data removed]",
      "text/plain": [
       "<Figure size 640x480 with 1 Axes>"
      ]
     },
     "metadata": {},
     "output_type": "display_data"
    }
   ],
   "source": [
    "# Box plot para precio final\n",
    "plt.boxplot(precios_df['final_price'])\n",
    "\n",
    "# Etiquetas de los ejes y título\n",
    "plt.xlabel('Precio final del inmueble')\n",
    "plt.ylabel('Valores')\n",
    "plt.title('Precio final')\n",
    "\n",
    "# Mostrar el box plot\n",
    "plt.show()"
   ]
  },
  {
   "cell_type": "markdown",
   "id": "71e12cc7",
   "metadata": {},
   "source": [
    "## Se confirma outliers y se revisa la desviación estándar de cada una de las tres variables"
   ]
  },
  {
   "cell_type": "code",
   "execution_count": 13,
   "id": "67922154",
   "metadata": {},
   "outputs": [
    {
     "name": "stdout",
     "output_type": "stream",
     "text": [
      "Promedio de baños es de aprox: 2\n",
      "La dispersión de los valores con respecto a la media es de: 0.89\n",
      "El límite a partir del cual se consideran los valores como atípicos: 3\n"
     ]
    }
   ],
   "source": [
    "# Número de baños- outliers\n",
    "# Calcular la media y la desviación estándar para Número de baños, su máximo es de 23 y mínimo 0.\n",
    "# Valores más altos de desviación estándar indican una mayor variabilidad en la cantidad de baños.\n",
    "# Se redondeo el número de baños porque en la practica así debe de ser.\n",
    "mean = np.mean(precios_df['bathrooms'])\n",
    "std = np.std(precios_df['bathrooms'])\n",
    "\n",
    "# Definir el umbral (por ejemplo, 3 veces la desviación estándar)\n",
    "threshold = 3 * std\n",
    "\n",
    "print(\"Promedio de baños es de aprox: {:.0f}\".format(mean))\n",
    "print(f\"La dispersión de los valores con respecto a la media es de: {std:.2f}\")\n",
    "print(\"El límite a partir del cual se consideran los valores como atípicos: {:.0f}\".format(threshold))\n"
   ]
  },
  {
   "cell_type": "code",
   "execution_count": 14,
   "id": "f09433af",
   "metadata": {},
   "outputs": [
    {
     "name": "stdout",
     "output_type": "stream",
     "text": [
      "Promedio de cuota de manteniemto es de aprox: 28.92\n",
      "La dispersión de los valores con respecto a la media es de: 286.99\n",
      "El límite a partir del cual se consideran los valores como atípicos: 860.97\n"
     ]
    }
   ],
   "source": [
    "# Cuota de mantenimiento- outliers\n",
    "# Calcular la media y la desviación estándar para Cuota de mantenimiento, máximo 4 mil, mínimo 0.\n",
    "# Valores más altos de desviación estándar indican una mayor variabilidad en la cuota de mantenimiento.\n",
    "\n",
    "mean = np.mean(precios_df['monthly_fee_mxn'])\n",
    "std = np.std(precios_df['monthly_fee_mxn'])\n",
    "\n",
    "# Definir el umbral (por ejemplo, 3 veces la desviación estándar)\n",
    "threshold = 3 * std\n",
    "\n",
    "print(\"Promedio de cuota de manteniemto es de aprox: {:.2f}\".format(mean))\n",
    "print(f\"La dispersión de los valores con respecto a la media es de: {std:.2f}\")\n",
    "print(\"El límite a partir del cual se consideran los valores como atípicos: {:.2f}\".format(threshold))"
   ]
  },
  {
   "cell_type": "code",
   "execution_count": 15,
   "id": "a5163745",
   "metadata": {},
   "outputs": [
    {
     "name": "stdout",
     "output_type": "stream",
     "text": [
      "Promedio de precio final es de aprox: 6,144,619.88\n",
      "La dispersión de los vlores con respecto a la media es de: 2,905,606.73\n",
      "El límite a partir del cual se consideran los valores como atípicos: 8,716,820.19\n"
     ]
    }
   ],
   "source": [
    "# Cuota de precio final- outliers\n",
    "# Calcular la media y la desviación estándar para Precio final.\n",
    "# Valores más altos de desviación estándar indican una mayor variabilidad en el precio final.\n",
    "\n",
    "mean = np.mean(precios_df['final_price'])\n",
    "std = np.std(precios_df['final_price'])\n",
    "\n",
    "# Definir el umbral (por ejemplo, 3 veces la desviación estándar)\n",
    "threshold = 3 * std\n",
    "\n",
    "print(\"Promedio de precio final es de aprox: {:,.2f}\".format(mean))\n",
    "print(f\"La dispersión de los vlores con respecto a la media es de: {std:,.2f}\")\n",
    "print(\"El límite a partir del cual se consideran los valores como atípicos: {:,.2f}\".format(threshold))"
   ]
  },
  {
   "cell_type": "code",
   "execution_count": 16,
   "id": "63bcc7be",
   "metadata": {},
   "outputs": [
    {
     "name": "stderr",
     "output_type": "stream",
     "text": [
      "C:\\Users\\alelo\\AppData\\Local\\Temp\\ipykernel_11488\\86698273.py:6: SettingWithCopyWarning: \n",
      "A value is trying to be set on a copy of a slice from a DataFrame\n",
      "\n",
      "See the caveats in the documentation: https://pandas.pydata.org/pandas-docs/stable/user_guide/indexing.html#returning-a-view-versus-a-copy\n",
      "  precios_df2.dropna(inplace=True)\n"
     ]
    },
    {
     "name": "stdout",
     "output_type": "stream",
     "text": [
      "Mean Absolute Error: 1916.5354076049741\n",
      "Mean Squared Error: 22009591.838069756\n",
      "Root Mean Squared Error: 4691.438141771642\n",
      "R^2 Score: 0.9449029467194568\n"
     ]
    }
   ],
   "source": [
    "# DataFrame con las variables relevantes\n",
    "variables = ['days_on_site', 'amenities', 'bathrooms', 'cellars', 'num_floors', 'monthly_fee_mxn', 'parking_lots', 'beds', 'm2', 'final_price', 'price_square_meter']\n",
    "precios_df2 = precios_df[variables]\n",
    "\n",
    "# Eliminar NaN si existen\n",
    "precios_df2.dropna(inplace=True)\n",
    "\n",
    "# Separar variables de entrada y variable objetivo\n",
    "X = precios_df2.drop('price_square_meter', axis=1)\n",
    "y = precios_df2['price_square_meter']\n",
    "\n",
    "# Dividir el conjunto de datos en entrenamiento y prueba\n",
    "X_train, X_test, y_train, y_test = train_test_split(X, y, test_size=0.2, random_state=42)\n",
    "\n",
    "# Crear el modelo HistGradientBoostingRegressor\n",
    "model = HistGradientBoostingRegressor(max_iter=100)\n",
    "\n",
    "# Ajustar el modelo con los datos de entrenamiento\n",
    "model.fit(X_train, y_train)\n",
    "\n",
    "# Realizar predicciones en el conjunto de prueba\n",
    "y_pred = model.predict(X_test)\n",
    "\n",
    "# Calcular las métricas de evaluación\n",
    "mae = mean_absolute_error(y_test, y_pred)\n",
    "mse = mean_squared_error(y_test, y_pred)\n",
    "rmse = np.sqrt(mse)\n",
    "r2 = r2_score(y_test, y_pred)\n",
    "\n",
    "# Imprimir las métricas de evaluación\n",
    "print(\"Mean Absolute Error:\", mae)\n",
    "print(\"Mean Squared Error:\", mse)\n",
    "print(\"Root Mean Squared Error:\", rmse)\n",
    "print(\"R^2 Score:\", r2)"
   ]
  },
  {
   "cell_type": "markdown",
   "id": "503d86ac",
   "metadata": {},
   "source": [
    "# Evaluación del modelo\n",
    "\n",
    "Las mpetricas de MAPE(Mean Absolute Percentage Error) se utiliza para evaluar el rendimiento de modelos de predicción cuando los valores son porcentajes; en este caso, los valores son absolutos por lo que utilizaré las métricas siguientes para evaluar el rendimiento del modelo de regresión:\n",
    "\n",
    "1. MAE (Mean Absolute Error)\n",
    "2. MSE (Mean Squared Error)\n",
    "3. RMSE (Root Mean Squared Error) \n",
    "4. R2 (Coefficient of Determination) "
   ]
  },
  {
   "cell_type": "markdown",
   "id": "6e021f08",
   "metadata": {},
   "source": [
    "## Implementación"
   ]
  },
  {
   "cell_type": "code",
   "execution_count": 20,
   "id": "7991aa83",
   "metadata": {},
   "outputs": [],
   "source": [
    "# Dependencia para implementación de MLOps\n",
    "import joblib\n",
    "import logging\n",
    "import mlflow\n",
    "import mlflow.sklearn\n"
   ]
  },
  {
   "cell_type": "code",
   "execution_count": 21,
   "id": "9355e9bb",
   "metadata": {},
   "outputs": [],
   "source": [
    "# Configuración de registro\n",
    "logging.basicConfig(level=logging.INFO, format='%(asctime)s - %(levelname)s - %(message)s')\n"
   ]
  },
  {
   "cell_type": "code",
   "execution_count": 22,
   "id": "0cb37b90",
   "metadata": {},
   "outputs": [],
   "source": [
    "# Cargar datos\n",
    "reto_precios_to_load = 'C:/Users/alelo/Documents/DD360/Precios_por_m2/reto_precios_v1.csv'\n",
    "precios_df = pd.read_csv(reto_precios_to_load)\n"
   ]
  },
  {
   "cell_type": "code",
   "execution_count": 23,
   "id": "c511fc53",
   "metadata": {},
   "outputs": [],
   "source": [
    "# DataFrame con las variables relevantes\n",
    "variables = ['days_on_site', 'amenities', 'bathrooms', 'cellars', 'num_floors', 'monthly_fee_mxn',\n",
    "             'parking_lots', 'beds', 'm2', 'final_price', 'price_square_meter']\n",
    "precios_df2 = precios_df[variables]"
   ]
  },
  {
   "cell_type": "code",
   "execution_count": 24,
   "id": "4ef5245c",
   "metadata": {},
   "outputs": [
    {
     "name": "stderr",
     "output_type": "stream",
     "text": [
      "C:\\Users\\alelo\\AppData\\Local\\Temp\\ipykernel_11488\\650052981.py:2: SettingWithCopyWarning: \n",
      "A value is trying to be set on a copy of a slice from a DataFrame\n",
      "\n",
      "See the caveats in the documentation: https://pandas.pydata.org/pandas-docs/stable/user_guide/indexing.html#returning-a-view-versus-a-copy\n",
      "  precios_df2.dropna(inplace=True)\n"
     ]
    }
   ],
   "source": [
    "# Eliminar NaN si existen\n",
    "precios_df2.dropna(inplace=True)"
   ]
  },
  {
   "cell_type": "code",
   "execution_count": 25,
   "id": "ae2a8513",
   "metadata": {},
   "outputs": [],
   "source": [
    "# Separar variables de entrada y variable objetivo\n",
    "X = precios_df2.drop('price_square_meter', axis=1)\n",
    "y = precios_df2['price_square_meter']"
   ]
  },
  {
   "cell_type": "code",
   "execution_count": 26,
   "id": "af374ca7",
   "metadata": {},
   "outputs": [],
   "source": [
    "# Dividir el conjunto de datos en entrenamiento y prueba\n",
    "X_train, X_test, y_train, y_test = train_test_split(X, y, test_size=0.2, random_state=42)\n"
   ]
  },
  {
   "cell_type": "code",
   "execution_count": 27,
   "id": "5a19464e",
   "metadata": {},
   "outputs": [],
   "source": [
    "# Crear el modelo HistGradientBoostingRegressor\n",
    "model = HistGradientBoostingRegressor(max_iter=100)"
   ]
  },
  {
   "cell_type": "code",
   "execution_count": 28,
   "id": "1d7fa1f4",
   "metadata": {},
   "outputs": [],
   "source": [
    "# Ajustar el modelo con los datos de entrenamiento\n",
    "model.fit(X_train, y_train)\n",
    "\n",
    "# Realizar predicciones en el conjunto de prueba\n",
    "y_pred = model.predict(X_test)"
   ]
  },
  {
   "cell_type": "code",
   "execution_count": 29,
   "id": "bd85ecdc",
   "metadata": {},
   "outputs": [],
   "source": [
    "# Calcular las métricas de evaluación\n",
    "mae = mean_absolute_error(y_test, y_pred)\n",
    "mse = mean_squared_error(y_test, y_pred)\n",
    "rmse = np.sqrt(mse)\n",
    "r2 = r2_score(y_test, y_pred)"
   ]
  },
  {
   "cell_type": "code",
   "execution_count": 30,
   "id": "1884d71b",
   "metadata": {},
   "outputs": [
    {
     "name": "stdout",
     "output_type": "stream",
     "text": [
      "Mean Absolute Error: 1916.5354076049741\n",
      "Mean Squared Error: 22009591.838069756\n",
      "Root Mean Squared Error: 4691.438141771642\n",
      "R^2 Score: 0.9449029467194568\n"
     ]
    }
   ],
   "source": [
    "# Imprimir las métricas de evaluación\n",
    "print(\"Mean Absolute Error:\", mae)\n",
    "print(\"Mean Squared Error:\", mse)\n",
    "print(\"Root Mean Squared Error:\", rmse)\n",
    "print(\"R^2 Score:\", r2)"
   ]
  },
  {
   "cell_type": "code",
   "execution_count": 31,
   "id": "3a59331f",
   "metadata": {},
   "outputs": [
    {
     "name": "stderr",
     "output_type": "stream",
     "text": [
      "2023-05-26 16:47:52,225 - INFO - Guardando el modelo...\n"
     ]
    },
    {
     "data": {
      "text/plain": [
       "['modelo.pkl']"
      ]
     },
     "execution_count": 31,
     "metadata": {},
     "output_type": "execute_result"
    }
   ],
   "source": [
    "# Guardar el modelo entrenado\n",
    "logging.info(\"Guardando el modelo...\")\n",
    "joblib.dump(model, 'modelo.pkl')\n"
   ]
  },
  {
   "cell_type": "code",
   "execution_count": 32,
   "id": "110fc3f9",
   "metadata": {},
   "outputs": [
    {
     "name": "stderr",
     "output_type": "stream",
     "text": [
      "2023-05-26 16:47:57,460 - INFO - Implementando MLOps...\n"
     ]
    }
   ],
   "source": [
    "# Implementación de MLOps utilizando MLflow\n",
    "logging.info(\"Implementando MLOps...\")\n"
   ]
  },
  {
   "cell_type": "code",
   "execution_count": 33,
   "id": "9d635932",
   "metadata": {},
   "outputs": [
    {
     "data": {
      "text/plain": [
       "<ActiveRun: >"
      ]
     },
     "execution_count": 33,
     "metadata": {},
     "output_type": "execute_result"
    }
   ],
   "source": [
    "# Iniciar la ejecución de MLflow\n",
    "mlflow.start_run()"
   ]
  },
  {
   "cell_type": "code",
   "execution_count": 34,
   "id": "5809d4e6",
   "metadata": {},
   "outputs": [],
   "source": [
    "# Registrar los parámetros del modelo\n",
    "mlflow.log_params(model.get_params())"
   ]
  },
  {
   "cell_type": "code",
   "execution_count": 35,
   "id": "df6aa116",
   "metadata": {},
   "outputs": [],
   "source": [
    "# Registrar las métricas de evaluación\n",
    "mlflow.log_metric(\"mae\", mae)\n",
    "mlflow.log_metric(\"mse\", mse)\n",
    "mlflow.log_metric(\"rmse\", rmse)\n",
    "mlflow.log_metric(\"r2\", r2)"
   ]
  },
  {
   "cell_type": "code",
   "execution_count": 36,
   "id": "5676314a",
   "metadata": {},
   "outputs": [
    {
     "name": "stderr",
     "output_type": "stream",
     "text": [
      "C:\\Users\\alelo\\anaconda3\\lib\\site-packages\\_distutils_hack\\__init__.py:33: UserWarning: Setuptools is replacing distutils.\n",
      "  warnings.warn(\"Setuptools is replacing distutils.\")\n"
     ]
    },
    {
     "data": {
      "text/plain": [
       "<mlflow.models.model.ModelInfo at 0x1e8fea11250>"
      ]
     },
     "execution_count": 36,
     "metadata": {},
     "output_type": "execute_result"
    }
   ],
   "source": [
    "# Guardar el modelo en MLflow\n",
    "mlflow.sklearn.log_model(model, \"model\")\n"
   ]
  },
  {
   "cell_type": "code",
   "execution_count": 37,
   "id": "6943c45b",
   "metadata": {},
   "outputs": [],
   "source": [
    "# Finalizar la ejecución de MLflow\n",
    "mlflow.end_run()"
   ]
  },
  {
   "cell_type": "code",
   "execution_count": null,
   "id": "63b4e38d",
   "metadata": {},
   "outputs": [],
   "source": []
  }
 ],
 "metadata": {
  "kernelspec": {
   "display_name": "Python 3 (ipykernel)",
   "language": "python",
   "name": "python3"
  },
  "language_info": {
   "codemirror_mode": {
    "name": "ipython",
    "version": 3
   },
   "file_extension": ".py",
   "mimetype": "text/x-python",
   "name": "python",
   "nbconvert_exporter": "python",
   "pygments_lexer": "ipython3",
   "version": "3.9.12"
  }
 },
 "nbformat": 4,
 "nbformat_minor": 5
}
